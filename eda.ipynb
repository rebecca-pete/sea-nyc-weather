{
 "cells": [
  {
   "cell_type": "markdown",
   "metadata": {},
   "source": [
    "# Final Project Exploratory Data Analysis\n",
    "\n",
    "Do your EDA in this notebook!"
   ]
  },
  {
   "cell_type": "markdown",
   "metadata": {},
   "source": [
    "We will begin by importing the Pandas Library and the as matplotlib.pyplot library for plotting."
   ]
  },
  {
   "cell_type": "code",
   "execution_count": 894,
   "metadata": {},
   "outputs": [],
   "source": [
    "import pandas as pd\n",
    "import numpy as np\n",
    "import matplotlib.pyplot as plt"
   ]
  },
  {
   "cell_type": "markdown",
   "metadata": {},
   "source": [
    "Next, we will show the version of Pandas used in this analysis."
   ]
  },
  {
   "cell_type": "code",
   "execution_count": 895,
   "metadata": {},
   "outputs": [
    {
     "name": "stdout",
     "output_type": "stream",
     "text": [
      "I am using pandas Version: 0.25.1.\n",
      "It is installed at: ['/Users/rebeccapeterson/.pyenv/versions/anaconda3-2019.10/lib/python3.7/site-packages/pandas']\n"
     ]
    }
   ],
   "source": [
    "print(f'I am using {pd.__name__} Version: {pd.__version__}.')\n",
    "print(f'It is installed at: {pd.__path__}')"
   ]
  },
  {
   "cell_type": "markdown",
   "metadata": {},
   "source": [
    "Next, we will create a dataframe instance of Seattle weather data, labeled SEA_data."
   ]
  },
  {
   "cell_type": "code",
   "execution_count": 896,
   "metadata": {},
   "outputs": [],
   "source": [
    "SEA_data = pd.read_csv('data/KSEA.csv')"
   ]
  },
  {
   "cell_type": "code",
   "execution_count": 897,
   "metadata": {},
   "outputs": [
    {
     "data": {
      "text/html": [
       "<div>\n",
       "<style scoped>\n",
       "    .dataframe tbody tr th:only-of-type {\n",
       "        vertical-align: middle;\n",
       "    }\n",
       "\n",
       "    .dataframe tbody tr th {\n",
       "        vertical-align: top;\n",
       "    }\n",
       "\n",
       "    .dataframe thead th {\n",
       "        text-align: right;\n",
       "    }\n",
       "</style>\n",
       "<table border=\"1\" class=\"dataframe\">\n",
       "  <thead>\n",
       "    <tr style=\"text-align: right;\">\n",
       "      <th></th>\n",
       "      <th>date</th>\n",
       "      <th>actual_mean_temp</th>\n",
       "      <th>actual_min_temp</th>\n",
       "      <th>actual_max_temp</th>\n",
       "      <th>average_min_temp</th>\n",
       "      <th>average_max_temp</th>\n",
       "      <th>record_min_temp</th>\n",
       "      <th>record_max_temp</th>\n",
       "      <th>record_min_temp_year</th>\n",
       "      <th>record_max_temp_year</th>\n",
       "      <th>actual_precipitation</th>\n",
       "      <th>average_precipitation</th>\n",
       "      <th>record_precipitation</th>\n",
       "    </tr>\n",
       "  </thead>\n",
       "  <tbody>\n",
       "    <tr>\n",
       "      <td>0</td>\n",
       "      <td>2014-7-1</td>\n",
       "      <td>77</td>\n",
       "      <td>60</td>\n",
       "      <td>94</td>\n",
       "      <td>54</td>\n",
       "      <td>73</td>\n",
       "      <td>45</td>\n",
       "      <td>94</td>\n",
       "      <td>1948</td>\n",
       "      <td>2014</td>\n",
       "      <td>0.0</td>\n",
       "      <td>0.03</td>\n",
       "      <td>0.75</td>\n",
       "    </tr>\n",
       "    <tr>\n",
       "      <td>1</td>\n",
       "      <td>2014-7-2</td>\n",
       "      <td>70</td>\n",
       "      <td>58</td>\n",
       "      <td>81</td>\n",
       "      <td>54</td>\n",
       "      <td>73</td>\n",
       "      <td>43</td>\n",
       "      <td>93</td>\n",
       "      <td>1954</td>\n",
       "      <td>2015</td>\n",
       "      <td>0.0</td>\n",
       "      <td>0.03</td>\n",
       "      <td>0.50</td>\n",
       "    </tr>\n",
       "    <tr>\n",
       "      <td>2</td>\n",
       "      <td>2014-7-3</td>\n",
       "      <td>64</td>\n",
       "      <td>57</td>\n",
       "      <td>71</td>\n",
       "      <td>54</td>\n",
       "      <td>74</td>\n",
       "      <td>44</td>\n",
       "      <td>92</td>\n",
       "      <td>1954</td>\n",
       "      <td>2015</td>\n",
       "      <td>0.0</td>\n",
       "      <td>0.03</td>\n",
       "      <td>0.47</td>\n",
       "    </tr>\n",
       "    <tr>\n",
       "      <td>3</td>\n",
       "      <td>2014-7-4</td>\n",
       "      <td>66</td>\n",
       "      <td>57</td>\n",
       "      <td>75</td>\n",
       "      <td>54</td>\n",
       "      <td>74</td>\n",
       "      <td>43</td>\n",
       "      <td>92</td>\n",
       "      <td>1949</td>\n",
       "      <td>2015</td>\n",
       "      <td>0.0</td>\n",
       "      <td>0.03</td>\n",
       "      <td>0.57</td>\n",
       "    </tr>\n",
       "    <tr>\n",
       "      <td>4</td>\n",
       "      <td>2014-7-5</td>\n",
       "      <td>66</td>\n",
       "      <td>56</td>\n",
       "      <td>76</td>\n",
       "      <td>55</td>\n",
       "      <td>74</td>\n",
       "      <td>47</td>\n",
       "      <td>91</td>\n",
       "      <td>1951</td>\n",
       "      <td>1958</td>\n",
       "      <td>0.0</td>\n",
       "      <td>0.03</td>\n",
       "      <td>0.64</td>\n",
       "    </tr>\n",
       "  </tbody>\n",
       "</table>\n",
       "</div>"
      ],
      "text/plain": [
       "       date  actual_mean_temp  actual_min_temp  actual_max_temp  \\\n",
       "0  2014-7-1                77               60               94   \n",
       "1  2014-7-2                70               58               81   \n",
       "2  2014-7-3                64               57               71   \n",
       "3  2014-7-4                66               57               75   \n",
       "4  2014-7-5                66               56               76   \n",
       "\n",
       "   average_min_temp  average_max_temp  record_min_temp  record_max_temp  \\\n",
       "0                54                73               45               94   \n",
       "1                54                73               43               93   \n",
       "2                54                74               44               92   \n",
       "3                54                74               43               92   \n",
       "4                55                74               47               91   \n",
       "\n",
       "   record_min_temp_year  record_max_temp_year  actual_precipitation  \\\n",
       "0                  1948                  2014                   0.0   \n",
       "1                  1954                  2015                   0.0   \n",
       "2                  1954                  2015                   0.0   \n",
       "3                  1949                  2015                   0.0   \n",
       "4                  1951                  1958                   0.0   \n",
       "\n",
       "   average_precipitation  record_precipitation  \n",
       "0                   0.03                  0.75  \n",
       "1                   0.03                  0.50  \n",
       "2                   0.03                  0.47  \n",
       "3                   0.03                  0.57  \n",
       "4                   0.03                  0.64  "
      ]
     },
     "execution_count": 897,
     "metadata": {},
     "output_type": "execute_result"
    }
   ],
   "source": [
    "SEA_data.head()"
   ]
  },
  {
   "cell_type": "code",
   "execution_count": 898,
   "metadata": {},
   "outputs": [
    {
     "data": {
      "text/html": [
       "<div>\n",
       "<style scoped>\n",
       "    .dataframe tbody tr th:only-of-type {\n",
       "        vertical-align: middle;\n",
       "    }\n",
       "\n",
       "    .dataframe tbody tr th {\n",
       "        vertical-align: top;\n",
       "    }\n",
       "\n",
       "    .dataframe thead th {\n",
       "        text-align: right;\n",
       "    }\n",
       "</style>\n",
       "<table border=\"1\" class=\"dataframe\">\n",
       "  <thead>\n",
       "    <tr style=\"text-align: right;\">\n",
       "      <th></th>\n",
       "      <th>date</th>\n",
       "      <th>actual_mean_temp</th>\n",
       "      <th>actual_min_temp</th>\n",
       "      <th>actual_max_temp</th>\n",
       "      <th>average_min_temp</th>\n",
       "      <th>average_max_temp</th>\n",
       "      <th>record_min_temp</th>\n",
       "      <th>record_max_temp</th>\n",
       "      <th>record_min_temp_year</th>\n",
       "      <th>record_max_temp_year</th>\n",
       "      <th>actual_precipitation</th>\n",
       "      <th>average_precipitation</th>\n",
       "      <th>record_precipitation</th>\n",
       "    </tr>\n",
       "  </thead>\n",
       "  <tbody>\n",
       "    <tr>\n",
       "      <td>360</td>\n",
       "      <td>2015-6-26</td>\n",
       "      <td>77</td>\n",
       "      <td>64</td>\n",
       "      <td>89</td>\n",
       "      <td>53</td>\n",
       "      <td>72</td>\n",
       "      <td>46</td>\n",
       "      <td>90</td>\n",
       "      <td>1949</td>\n",
       "      <td>2006</td>\n",
       "      <td>0.00</td>\n",
       "      <td>0.03</td>\n",
       "      <td>0.32</td>\n",
       "    </tr>\n",
       "    <tr>\n",
       "      <td>361</td>\n",
       "      <td>2015-6-27</td>\n",
       "      <td>78</td>\n",
       "      <td>63</td>\n",
       "      <td>92</td>\n",
       "      <td>53</td>\n",
       "      <td>72</td>\n",
       "      <td>45</td>\n",
       "      <td>92</td>\n",
       "      <td>1949</td>\n",
       "      <td>2015</td>\n",
       "      <td>0.00</td>\n",
       "      <td>0.04</td>\n",
       "      <td>0.61</td>\n",
       "    </tr>\n",
       "    <tr>\n",
       "      <td>362</td>\n",
       "      <td>2015-6-28</td>\n",
       "      <td>74</td>\n",
       "      <td>65</td>\n",
       "      <td>83</td>\n",
       "      <td>54</td>\n",
       "      <td>72</td>\n",
       "      <td>45</td>\n",
       "      <td>91</td>\n",
       "      <td>1949</td>\n",
       "      <td>1995</td>\n",
       "      <td>0.01</td>\n",
       "      <td>0.04</td>\n",
       "      <td>0.79</td>\n",
       "    </tr>\n",
       "    <tr>\n",
       "      <td>363</td>\n",
       "      <td>2015-6-29</td>\n",
       "      <td>74</td>\n",
       "      <td>63</td>\n",
       "      <td>84</td>\n",
       "      <td>54</td>\n",
       "      <td>73</td>\n",
       "      <td>45</td>\n",
       "      <td>93</td>\n",
       "      <td>1949</td>\n",
       "      <td>1987</td>\n",
       "      <td>0.00</td>\n",
       "      <td>0.03</td>\n",
       "      <td>0.64</td>\n",
       "    </tr>\n",
       "    <tr>\n",
       "      <td>364</td>\n",
       "      <td>2015-6-30</td>\n",
       "      <td>73</td>\n",
       "      <td>59</td>\n",
       "      <td>87</td>\n",
       "      <td>54</td>\n",
       "      <td>73</td>\n",
       "      <td>43</td>\n",
       "      <td>96</td>\n",
       "      <td>1949</td>\n",
       "      <td>1995</td>\n",
       "      <td>0.00</td>\n",
       "      <td>0.04</td>\n",
       "      <td>0.84</td>\n",
       "    </tr>\n",
       "  </tbody>\n",
       "</table>\n",
       "</div>"
      ],
      "text/plain": [
       "          date  actual_mean_temp  actual_min_temp  actual_max_temp  \\\n",
       "360  2015-6-26                77               64               89   \n",
       "361  2015-6-27                78               63               92   \n",
       "362  2015-6-28                74               65               83   \n",
       "363  2015-6-29                74               63               84   \n",
       "364  2015-6-30                73               59               87   \n",
       "\n",
       "     average_min_temp  average_max_temp  record_min_temp  record_max_temp  \\\n",
       "360                53                72               46               90   \n",
       "361                53                72               45               92   \n",
       "362                54                72               45               91   \n",
       "363                54                73               45               93   \n",
       "364                54                73               43               96   \n",
       "\n",
       "     record_min_temp_year  record_max_temp_year  actual_precipitation  \\\n",
       "360                  1949                  2006                  0.00   \n",
       "361                  1949                  2015                  0.00   \n",
       "362                  1949                  1995                  0.01   \n",
       "363                  1949                  1987                  0.00   \n",
       "364                  1949                  1995                  0.00   \n",
       "\n",
       "     average_precipitation  record_precipitation  \n",
       "360                   0.03                  0.32  \n",
       "361                   0.04                  0.61  \n",
       "362                   0.04                  0.79  \n",
       "363                   0.03                  0.64  \n",
       "364                   0.04                  0.84  "
      ]
     },
     "execution_count": 898,
     "metadata": {},
     "output_type": "execute_result"
    }
   ],
   "source": [
    "SEA_data.tail()"
   ]
  },
  {
   "cell_type": "markdown",
   "metadata": {},
   "source": [
    "Next, we will create a dataframe instance of New York City weather data, labeled NYC_data."
   ]
  },
  {
   "cell_type": "code",
   "execution_count": 899,
   "metadata": {},
   "outputs": [],
   "source": [
    "NYC_data = pd.read_csv('data/KNYC.csv')"
   ]
  },
  {
   "cell_type": "code",
   "execution_count": 900,
   "metadata": {},
   "outputs": [
    {
     "data": {
      "text/html": [
       "<div>\n",
       "<style scoped>\n",
       "    .dataframe tbody tr th:only-of-type {\n",
       "        vertical-align: middle;\n",
       "    }\n",
       "\n",
       "    .dataframe tbody tr th {\n",
       "        vertical-align: top;\n",
       "    }\n",
       "\n",
       "    .dataframe thead th {\n",
       "        text-align: right;\n",
       "    }\n",
       "</style>\n",
       "<table border=\"1\" class=\"dataframe\">\n",
       "  <thead>\n",
       "    <tr style=\"text-align: right;\">\n",
       "      <th></th>\n",
       "      <th>date</th>\n",
       "      <th>actual_mean_temp</th>\n",
       "      <th>actual_min_temp</th>\n",
       "      <th>actual_max_temp</th>\n",
       "      <th>average_min_temp</th>\n",
       "      <th>average_max_temp</th>\n",
       "      <th>record_min_temp</th>\n",
       "      <th>record_max_temp</th>\n",
       "      <th>record_min_temp_year</th>\n",
       "      <th>record_max_temp_year</th>\n",
       "      <th>actual_precipitation</th>\n",
       "      <th>average_precipitation</th>\n",
       "      <th>record_precipitation</th>\n",
       "    </tr>\n",
       "  </thead>\n",
       "  <tbody>\n",
       "    <tr>\n",
       "      <td>0</td>\n",
       "      <td>2014-7-1</td>\n",
       "      <td>81</td>\n",
       "      <td>72</td>\n",
       "      <td>89</td>\n",
       "      <td>68</td>\n",
       "      <td>83</td>\n",
       "      <td>52</td>\n",
       "      <td>100</td>\n",
       "      <td>1943</td>\n",
       "      <td>1901</td>\n",
       "      <td>0.00</td>\n",
       "      <td>0.12</td>\n",
       "      <td>2.17</td>\n",
       "    </tr>\n",
       "    <tr>\n",
       "      <td>1</td>\n",
       "      <td>2014-7-2</td>\n",
       "      <td>82</td>\n",
       "      <td>72</td>\n",
       "      <td>91</td>\n",
       "      <td>68</td>\n",
       "      <td>83</td>\n",
       "      <td>56</td>\n",
       "      <td>100</td>\n",
       "      <td>2001</td>\n",
       "      <td>1966</td>\n",
       "      <td>0.96</td>\n",
       "      <td>0.13</td>\n",
       "      <td>1.79</td>\n",
       "    </tr>\n",
       "    <tr>\n",
       "      <td>2</td>\n",
       "      <td>2014-7-3</td>\n",
       "      <td>78</td>\n",
       "      <td>69</td>\n",
       "      <td>87</td>\n",
       "      <td>68</td>\n",
       "      <td>83</td>\n",
       "      <td>54</td>\n",
       "      <td>103</td>\n",
       "      <td>1933</td>\n",
       "      <td>1966</td>\n",
       "      <td>1.78</td>\n",
       "      <td>0.12</td>\n",
       "      <td>2.80</td>\n",
       "    </tr>\n",
       "    <tr>\n",
       "      <td>3</td>\n",
       "      <td>2014-7-4</td>\n",
       "      <td>70</td>\n",
       "      <td>65</td>\n",
       "      <td>74</td>\n",
       "      <td>68</td>\n",
       "      <td>84</td>\n",
       "      <td>55</td>\n",
       "      <td>102</td>\n",
       "      <td>1986</td>\n",
       "      <td>1949</td>\n",
       "      <td>0.14</td>\n",
       "      <td>0.13</td>\n",
       "      <td>1.76</td>\n",
       "    </tr>\n",
       "    <tr>\n",
       "      <td>4</td>\n",
       "      <td>2014-7-5</td>\n",
       "      <td>72</td>\n",
       "      <td>63</td>\n",
       "      <td>81</td>\n",
       "      <td>68</td>\n",
       "      <td>84</td>\n",
       "      <td>53</td>\n",
       "      <td>101</td>\n",
       "      <td>1979</td>\n",
       "      <td>1999</td>\n",
       "      <td>0.00</td>\n",
       "      <td>0.12</td>\n",
       "      <td>3.07</td>\n",
       "    </tr>\n",
       "  </tbody>\n",
       "</table>\n",
       "</div>"
      ],
      "text/plain": [
       "       date  actual_mean_temp  actual_min_temp  actual_max_temp  \\\n",
       "0  2014-7-1                81               72               89   \n",
       "1  2014-7-2                82               72               91   \n",
       "2  2014-7-3                78               69               87   \n",
       "3  2014-7-4                70               65               74   \n",
       "4  2014-7-5                72               63               81   \n",
       "\n",
       "   average_min_temp  average_max_temp  record_min_temp  record_max_temp  \\\n",
       "0                68                83               52              100   \n",
       "1                68                83               56              100   \n",
       "2                68                83               54              103   \n",
       "3                68                84               55              102   \n",
       "4                68                84               53              101   \n",
       "\n",
       "   record_min_temp_year  record_max_temp_year  actual_precipitation  \\\n",
       "0                  1943                  1901                  0.00   \n",
       "1                  2001                  1966                  0.96   \n",
       "2                  1933                  1966                  1.78   \n",
       "3                  1986                  1949                  0.14   \n",
       "4                  1979                  1999                  0.00   \n",
       "\n",
       "   average_precipitation  record_precipitation  \n",
       "0                   0.12                  2.17  \n",
       "1                   0.13                  1.79  \n",
       "2                   0.12                  2.80  \n",
       "3                   0.13                  1.76  \n",
       "4                   0.12                  3.07  "
      ]
     },
     "execution_count": 900,
     "metadata": {},
     "output_type": "execute_result"
    }
   ],
   "source": [
    "NYC_data.head()"
   ]
  },
  {
   "cell_type": "code",
   "execution_count": 901,
   "metadata": {},
   "outputs": [
    {
     "data": {
      "text/html": [
       "<div>\n",
       "<style scoped>\n",
       "    .dataframe tbody tr th:only-of-type {\n",
       "        vertical-align: middle;\n",
       "    }\n",
       "\n",
       "    .dataframe tbody tr th {\n",
       "        vertical-align: top;\n",
       "    }\n",
       "\n",
       "    .dataframe thead th {\n",
       "        text-align: right;\n",
       "    }\n",
       "</style>\n",
       "<table border=\"1\" class=\"dataframe\">\n",
       "  <thead>\n",
       "    <tr style=\"text-align: right;\">\n",
       "      <th></th>\n",
       "      <th>date</th>\n",
       "      <th>actual_mean_temp</th>\n",
       "      <th>actual_min_temp</th>\n",
       "      <th>actual_max_temp</th>\n",
       "      <th>average_min_temp</th>\n",
       "      <th>average_max_temp</th>\n",
       "      <th>record_min_temp</th>\n",
       "      <th>record_max_temp</th>\n",
       "      <th>record_min_temp_year</th>\n",
       "      <th>record_max_temp_year</th>\n",
       "      <th>actual_precipitation</th>\n",
       "      <th>average_precipitation</th>\n",
       "      <th>record_precipitation</th>\n",
       "    </tr>\n",
       "  </thead>\n",
       "  <tbody>\n",
       "    <tr>\n",
       "      <td>360</td>\n",
       "      <td>2015-6-26</td>\n",
       "      <td>75</td>\n",
       "      <td>69</td>\n",
       "      <td>81</td>\n",
       "      <td>67</td>\n",
       "      <td>82</td>\n",
       "      <td>56</td>\n",
       "      <td>100</td>\n",
       "      <td>1979</td>\n",
       "      <td>1952</td>\n",
       "      <td>0.00</td>\n",
       "      <td>0.13</td>\n",
       "      <td>4.29</td>\n",
       "    </tr>\n",
       "    <tr>\n",
       "      <td>361</td>\n",
       "      <td>2015-6-27</td>\n",
       "      <td>65</td>\n",
       "      <td>58</td>\n",
       "      <td>71</td>\n",
       "      <td>67</td>\n",
       "      <td>82</td>\n",
       "      <td>55</td>\n",
       "      <td>101</td>\n",
       "      <td>1940</td>\n",
       "      <td>1966</td>\n",
       "      <td>1.12</td>\n",
       "      <td>0.12</td>\n",
       "      <td>2.11</td>\n",
       "    </tr>\n",
       "    <tr>\n",
       "      <td>362</td>\n",
       "      <td>2015-6-28</td>\n",
       "      <td>68</td>\n",
       "      <td>62</td>\n",
       "      <td>73</td>\n",
       "      <td>67</td>\n",
       "      <td>83</td>\n",
       "      <td>54</td>\n",
       "      <td>96</td>\n",
       "      <td>1995</td>\n",
       "      <td>1991</td>\n",
       "      <td>0.29</td>\n",
       "      <td>0.13</td>\n",
       "      <td>1.69</td>\n",
       "    </tr>\n",
       "    <tr>\n",
       "      <td>363</td>\n",
       "      <td>2015-6-29</td>\n",
       "      <td>70</td>\n",
       "      <td>63</td>\n",
       "      <td>76</td>\n",
       "      <td>67</td>\n",
       "      <td>83</td>\n",
       "      <td>52</td>\n",
       "      <td>101</td>\n",
       "      <td>1919</td>\n",
       "      <td>1934</td>\n",
       "      <td>0.00</td>\n",
       "      <td>0.12</td>\n",
       "      <td>2.57</td>\n",
       "    </tr>\n",
       "    <tr>\n",
       "      <td>364</td>\n",
       "      <td>2015-6-30</td>\n",
       "      <td>75</td>\n",
       "      <td>68</td>\n",
       "      <td>82</td>\n",
       "      <td>67</td>\n",
       "      <td>83</td>\n",
       "      <td>53</td>\n",
       "      <td>99</td>\n",
       "      <td>1919</td>\n",
       "      <td>1964</td>\n",
       "      <td>0.00</td>\n",
       "      <td>0.13</td>\n",
       "      <td>3.07</td>\n",
       "    </tr>\n",
       "  </tbody>\n",
       "</table>\n",
       "</div>"
      ],
      "text/plain": [
       "          date  actual_mean_temp  actual_min_temp  actual_max_temp  \\\n",
       "360  2015-6-26                75               69               81   \n",
       "361  2015-6-27                65               58               71   \n",
       "362  2015-6-28                68               62               73   \n",
       "363  2015-6-29                70               63               76   \n",
       "364  2015-6-30                75               68               82   \n",
       "\n",
       "     average_min_temp  average_max_temp  record_min_temp  record_max_temp  \\\n",
       "360                67                82               56              100   \n",
       "361                67                82               55              101   \n",
       "362                67                83               54               96   \n",
       "363                67                83               52              101   \n",
       "364                67                83               53               99   \n",
       "\n",
       "     record_min_temp_year  record_max_temp_year  actual_precipitation  \\\n",
       "360                  1979                  1952                  0.00   \n",
       "361                  1940                  1966                  1.12   \n",
       "362                  1995                  1991                  0.29   \n",
       "363                  1919                  1934                  0.00   \n",
       "364                  1919                  1964                  0.00   \n",
       "\n",
       "     average_precipitation  record_precipitation  \n",
       "360                   0.13                  4.29  \n",
       "361                   0.12                  2.11  \n",
       "362                   0.13                  1.69  \n",
       "363                   0.12                  2.57  \n",
       "364                   0.13                  3.07  "
      ]
     },
     "execution_count": 901,
     "metadata": {},
     "output_type": "execute_result"
    }
   ],
   "source": [
    "NYC_data.tail()"
   ]
  },
  {
   "cell_type": "markdown",
   "metadata": {},
   "source": [
    "Next, lets check the shape of our dataframes."
   ]
  },
  {
   "cell_type": "code",
   "execution_count": 902,
   "metadata": {},
   "outputs": [
    {
     "data": {
      "text/plain": [
       "(365, 13)"
      ]
     },
     "execution_count": 902,
     "metadata": {},
     "output_type": "execute_result"
    }
   ],
   "source": [
    "SEA_data.shape"
   ]
  },
  {
   "cell_type": "code",
   "execution_count": 903,
   "metadata": {},
   "outputs": [
    {
     "data": {
      "text/plain": [
       "(365, 13)"
      ]
     },
     "execution_count": 903,
     "metadata": {},
     "output_type": "execute_result"
    }
   ],
   "source": [
    "NYC_data.shape"
   ]
  },
  {
   "cell_type": "markdown",
   "metadata": {},
   "source": [
    "Next, let's compare the column headers and data types for both dataframes.\n",
    "Let's start with Seattle."
   ]
  },
  {
   "cell_type": "code",
   "execution_count": 904,
   "metadata": {},
   "outputs": [
    {
     "data": {
      "text/plain": [
       "Index(['date', 'actual_mean_temp', 'actual_min_temp', 'actual_max_temp',\n",
       "       'average_min_temp', 'average_max_temp', 'record_min_temp',\n",
       "       'record_max_temp', 'record_min_temp_year', 'record_max_temp_year',\n",
       "       'actual_precipitation', 'average_precipitation',\n",
       "       'record_precipitation'],\n",
       "      dtype='object')"
      ]
     },
     "execution_count": 904,
     "metadata": {},
     "output_type": "execute_result"
    }
   ],
   "source": [
    "SEA_data.columns"
   ]
  },
  {
   "cell_type": "code",
   "execution_count": 905,
   "metadata": {},
   "outputs": [
    {
     "data": {
      "text/plain": [
       "date                      object\n",
       "actual_mean_temp           int64\n",
       "actual_min_temp            int64\n",
       "actual_max_temp            int64\n",
       "average_min_temp           int64\n",
       "average_max_temp           int64\n",
       "record_min_temp            int64\n",
       "record_max_temp            int64\n",
       "record_min_temp_year       int64\n",
       "record_max_temp_year       int64\n",
       "actual_precipitation     float64\n",
       "average_precipitation    float64\n",
       "record_precipitation     float64\n",
       "dtype: object"
      ]
     },
     "execution_count": 905,
     "metadata": {},
     "output_type": "execute_result"
    }
   ],
   "source": [
    "SEA_data.dtypes"
   ]
  },
  {
   "cell_type": "markdown",
   "metadata": {},
   "source": [
    "Next, we'll check the New York dataframe."
   ]
  },
  {
   "cell_type": "code",
   "execution_count": 906,
   "metadata": {},
   "outputs": [
    {
     "data": {
      "text/plain": [
       "Index(['date', 'actual_mean_temp', 'actual_min_temp', 'actual_max_temp',\n",
       "       'average_min_temp', 'average_max_temp', 'record_min_temp',\n",
       "       'record_max_temp', 'record_min_temp_year', 'record_max_temp_year',\n",
       "       'actual_precipitation', 'average_precipitation',\n",
       "       'record_precipitation'],\n",
       "      dtype='object')"
      ]
     },
     "execution_count": 906,
     "metadata": {},
     "output_type": "execute_result"
    }
   ],
   "source": [
    "NYC_data.columns"
   ]
  },
  {
   "cell_type": "code",
   "execution_count": 907,
   "metadata": {},
   "outputs": [
    {
     "data": {
      "text/plain": [
       "date                      object\n",
       "actual_mean_temp           int64\n",
       "actual_min_temp            int64\n",
       "actual_max_temp            int64\n",
       "average_min_temp           int64\n",
       "average_max_temp           int64\n",
       "record_min_temp            int64\n",
       "record_max_temp            int64\n",
       "record_min_temp_year       int64\n",
       "record_max_temp_year       int64\n",
       "actual_precipitation     float64\n",
       "average_precipitation    float64\n",
       "record_precipitation     float64\n",
       "dtype: object"
      ]
     },
     "execution_count": 907,
     "metadata": {},
     "output_type": "execute_result"
    }
   ],
   "source": [
    "NYC_data.dtypes"
   ]
  },
  {
   "cell_type": "markdown",
   "metadata": {},
   "source": [
    "Let's convert SEA_data.dtypes and NYC_data.dtypes into a DataFrame for easier viewing, starting with Seattle:"
   ]
  },
  {
   "cell_type": "code",
   "execution_count": 908,
   "metadata": {},
   "outputs": [
    {
     "data": {
      "text/html": [
       "<div>\n",
       "<style scoped>\n",
       "    .dataframe tbody tr th:only-of-type {\n",
       "        vertical-align: middle;\n",
       "    }\n",
       "\n",
       "    .dataframe tbody tr th {\n",
       "        vertical-align: top;\n",
       "    }\n",
       "\n",
       "    .dataframe thead th {\n",
       "        text-align: right;\n",
       "    }\n",
       "</style>\n",
       "<table border=\"1\" class=\"dataframe\">\n",
       "  <thead>\n",
       "    <tr style=\"text-align: right;\">\n",
       "      <th></th>\n",
       "      <th>SEA DataTypes</th>\n",
       "    </tr>\n",
       "  </thead>\n",
       "  <tbody>\n",
       "    <tr>\n",
       "      <td>date</td>\n",
       "      <td>object</td>\n",
       "    </tr>\n",
       "    <tr>\n",
       "      <td>actual_mean_temp</td>\n",
       "      <td>int64</td>\n",
       "    </tr>\n",
       "    <tr>\n",
       "      <td>actual_min_temp</td>\n",
       "      <td>int64</td>\n",
       "    </tr>\n",
       "    <tr>\n",
       "      <td>actual_max_temp</td>\n",
       "      <td>int64</td>\n",
       "    </tr>\n",
       "    <tr>\n",
       "      <td>average_min_temp</td>\n",
       "      <td>int64</td>\n",
       "    </tr>\n",
       "    <tr>\n",
       "      <td>average_max_temp</td>\n",
       "      <td>int64</td>\n",
       "    </tr>\n",
       "    <tr>\n",
       "      <td>record_min_temp</td>\n",
       "      <td>int64</td>\n",
       "    </tr>\n",
       "    <tr>\n",
       "      <td>record_max_temp</td>\n",
       "      <td>int64</td>\n",
       "    </tr>\n",
       "    <tr>\n",
       "      <td>record_min_temp_year</td>\n",
       "      <td>int64</td>\n",
       "    </tr>\n",
       "    <tr>\n",
       "      <td>record_max_temp_year</td>\n",
       "      <td>int64</td>\n",
       "    </tr>\n",
       "    <tr>\n",
       "      <td>actual_precipitation</td>\n",
       "      <td>float64</td>\n",
       "    </tr>\n",
       "    <tr>\n",
       "      <td>average_precipitation</td>\n",
       "      <td>float64</td>\n",
       "    </tr>\n",
       "    <tr>\n",
       "      <td>record_precipitation</td>\n",
       "      <td>float64</td>\n",
       "    </tr>\n",
       "  </tbody>\n",
       "</table>\n",
       "</div>"
      ],
      "text/plain": [
       "                      SEA DataTypes\n",
       "date                         object\n",
       "actual_mean_temp              int64\n",
       "actual_min_temp               int64\n",
       "actual_max_temp               int64\n",
       "average_min_temp              int64\n",
       "average_max_temp              int64\n",
       "record_min_temp               int64\n",
       "record_max_temp               int64\n",
       "record_min_temp_year          int64\n",
       "record_max_temp_year          int64\n",
       "actual_precipitation        float64\n",
       "average_precipitation       float64\n",
       "record_precipitation        float64"
      ]
     },
     "execution_count": 908,
     "metadata": {},
     "output_type": "execute_result"
    }
   ],
   "source": [
    "pd.DataFrame(SEA_data.dtypes, columns=['SEA DataTypes'])"
   ]
  },
  {
   "cell_type": "code",
   "execution_count": 909,
   "metadata": {},
   "outputs": [
    {
     "data": {
      "text/html": [
       "<div>\n",
       "<style scoped>\n",
       "    .dataframe tbody tr th:only-of-type {\n",
       "        vertical-align: middle;\n",
       "    }\n",
       "\n",
       "    .dataframe tbody tr th {\n",
       "        vertical-align: top;\n",
       "    }\n",
       "\n",
       "    .dataframe thead th {\n",
       "        text-align: right;\n",
       "    }\n",
       "</style>\n",
       "<table border=\"1\" class=\"dataframe\">\n",
       "  <thead>\n",
       "    <tr style=\"text-align: right;\">\n",
       "      <th></th>\n",
       "      <th>NYC DataTypes</th>\n",
       "    </tr>\n",
       "  </thead>\n",
       "  <tbody>\n",
       "    <tr>\n",
       "      <td>date</td>\n",
       "      <td>object</td>\n",
       "    </tr>\n",
       "    <tr>\n",
       "      <td>actual_mean_temp</td>\n",
       "      <td>int64</td>\n",
       "    </tr>\n",
       "    <tr>\n",
       "      <td>actual_min_temp</td>\n",
       "      <td>int64</td>\n",
       "    </tr>\n",
       "    <tr>\n",
       "      <td>actual_max_temp</td>\n",
       "      <td>int64</td>\n",
       "    </tr>\n",
       "    <tr>\n",
       "      <td>average_min_temp</td>\n",
       "      <td>int64</td>\n",
       "    </tr>\n",
       "    <tr>\n",
       "      <td>average_max_temp</td>\n",
       "      <td>int64</td>\n",
       "    </tr>\n",
       "    <tr>\n",
       "      <td>record_min_temp</td>\n",
       "      <td>int64</td>\n",
       "    </tr>\n",
       "    <tr>\n",
       "      <td>record_max_temp</td>\n",
       "      <td>int64</td>\n",
       "    </tr>\n",
       "    <tr>\n",
       "      <td>record_min_temp_year</td>\n",
       "      <td>int64</td>\n",
       "    </tr>\n",
       "    <tr>\n",
       "      <td>record_max_temp_year</td>\n",
       "      <td>int64</td>\n",
       "    </tr>\n",
       "    <tr>\n",
       "      <td>actual_precipitation</td>\n",
       "      <td>float64</td>\n",
       "    </tr>\n",
       "    <tr>\n",
       "      <td>average_precipitation</td>\n",
       "      <td>float64</td>\n",
       "    </tr>\n",
       "    <tr>\n",
       "      <td>record_precipitation</td>\n",
       "      <td>float64</td>\n",
       "    </tr>\n",
       "  </tbody>\n",
       "</table>\n",
       "</div>"
      ],
      "text/plain": [
       "                      NYC DataTypes\n",
       "date                         object\n",
       "actual_mean_temp              int64\n",
       "actual_min_temp               int64\n",
       "actual_max_temp               int64\n",
       "average_min_temp              int64\n",
       "average_max_temp              int64\n",
       "record_min_temp               int64\n",
       "record_max_temp               int64\n",
       "record_min_temp_year          int64\n",
       "record_max_temp_year          int64\n",
       "actual_precipitation        float64\n",
       "average_precipitation       float64\n",
       "record_precipitation        float64"
      ]
     },
     "execution_count": 909,
     "metadata": {},
     "output_type": "execute_result"
    }
   ],
   "source": [
    "pd.DataFrame(NYC_data.dtypes, columns=['NYC DataTypes'])"
   ]
  },
  {
   "cell_type": "markdown",
   "metadata": {},
   "source": [
    "Next, we'll only select the columns we want from each dataframe. Let's extract date, actual_mean_temp, record_max_temp, record_max_temp_year. Eventually, we will search for the hottest day in each month.\n",
    "Let's create a SEA_set and NYC_set of these four columns."
   ]
  },
  {
   "cell_type": "code",
   "execution_count": 910,
   "metadata": {},
   "outputs": [
    {
     "name": "stdout",
     "output_type": "stream",
     "text": [
      "          date  actual_mean_temp  record_max_temp  record_max_temp_year\n",
      "0     2014-7-1                77               94                  2014\n",
      "1     2014-7-2                70               93                  2015\n",
      "2     2014-7-3                64               92                  2015\n",
      "3     2014-7-4                66               92                  2015\n",
      "4     2014-7-5                66               91                  1958\n",
      "..         ...               ...              ...                   ...\n",
      "360  2015-6-26                77               90                  2006\n",
      "361  2015-6-27                78               92                  2015\n",
      "362  2015-6-28                74               91                  1995\n",
      "363  2015-6-29                74               93                  1987\n",
      "364  2015-6-30                73               96                  1995\n",
      "\n",
      "[365 rows x 4 columns]\n"
     ]
    }
   ],
   "source": [
    "SEA_set = SEA_data[['date', 'actual_mean_temp', 'record_max_temp', 'record_max_temp_year']]\n",
    "print(SEA_set)"
   ]
  },
  {
   "cell_type": "code",
   "execution_count": 911,
   "metadata": {},
   "outputs": [
    {
     "name": "stdout",
     "output_type": "stream",
     "text": [
      "          date  actual_mean_temp  record_max_temp  record_max_temp_year\n",
      "0     2014-7-1                81              100                  1901\n",
      "1     2014-7-2                82              100                  1966\n",
      "2     2014-7-3                78              103                  1966\n",
      "3     2014-7-4                70              102                  1949\n",
      "4     2014-7-5                72              101                  1999\n",
      "..         ...               ...              ...                   ...\n",
      "360  2015-6-26                75              100                  1952\n",
      "361  2015-6-27                65              101                  1966\n",
      "362  2015-6-28                68               96                  1991\n",
      "363  2015-6-29                70              101                  1934\n",
      "364  2015-6-30                75               99                  1964\n",
      "\n",
      "[365 rows x 4 columns]\n"
     ]
    }
   ],
   "source": [
    "NYC_set = NYC_data[['date', 'actual_mean_temp', 'record_max_temp', 'record_max_temp_year']]\n",
    "print(NYC_set)"
   ]
  },
  {
   "cell_type": "markdown",
   "metadata": {},
   "source": [
    "Rename those columns on the original dataframes."
   ]
  },
  {
   "cell_type": "code",
   "execution_count": 912,
   "metadata": {},
   "outputs": [
    {
     "name": "stdout",
     "output_type": "stream",
     "text": [
      "          Date  ActualMeanTemp  actual_min_temp  actual_max_temp  \\\n",
      "0     2014-7-1              77               60               94   \n",
      "1     2014-7-2              70               58               81   \n",
      "2     2014-7-3              64               57               71   \n",
      "3     2014-7-4              66               57               75   \n",
      "4     2014-7-5              66               56               76   \n",
      "..         ...             ...              ...              ...   \n",
      "360  2015-6-26              77               64               89   \n",
      "361  2015-6-27              78               63               92   \n",
      "362  2015-6-28              74               65               83   \n",
      "363  2015-6-29              74               63               84   \n",
      "364  2015-6-30              73               59               87   \n",
      "\n",
      "     average_min_temp  average_max_temp  record_min_temp  RecordMaxTemp  \\\n",
      "0                  54                73               45             94   \n",
      "1                  54                73               43             93   \n",
      "2                  54                74               44             92   \n",
      "3                  54                74               43             92   \n",
      "4                  55                74               47             91   \n",
      "..                ...               ...              ...            ...   \n",
      "360                53                72               46             90   \n",
      "361                53                72               45             92   \n",
      "362                54                72               45             91   \n",
      "363                54                73               45             93   \n",
      "364                54                73               43             96   \n",
      "\n",
      "     record_min_temp_year  RecordMaxTempYear  actual_precipitation  \\\n",
      "0                    1948               2014                  0.00   \n",
      "1                    1954               2015                  0.00   \n",
      "2                    1954               2015                  0.00   \n",
      "3                    1949               2015                  0.00   \n",
      "4                    1951               1958                  0.00   \n",
      "..                    ...                ...                   ...   \n",
      "360                  1949               2006                  0.00   \n",
      "361                  1949               2015                  0.00   \n",
      "362                  1949               1995                  0.01   \n",
      "363                  1949               1987                  0.00   \n",
      "364                  1949               1995                  0.00   \n",
      "\n",
      "     average_precipitation  record_precipitation  \n",
      "0                     0.03                  0.75  \n",
      "1                     0.03                  0.50  \n",
      "2                     0.03                  0.47  \n",
      "3                     0.03                  0.57  \n",
      "4                     0.03                  0.64  \n",
      "..                     ...                   ...  \n",
      "360                   0.03                  0.32  \n",
      "361                   0.04                  0.61  \n",
      "362                   0.04                  0.79  \n",
      "363                   0.03                  0.64  \n",
      "364                   0.04                  0.84  \n",
      "\n",
      "[365 rows x 13 columns]\n"
     ]
    }
   ],
   "source": [
    "SEA_data.rename(columns={'date': 'Date', 'actual_mean_temp': 'ActualMeanTemp', 'record_max_temp':'RecordMaxTemp', 'record_max_temp_year': 'RecordMaxTempYear'}, inplace=True)\n",
    "print (SEA_data)"
   ]
  },
  {
   "cell_type": "code",
   "execution_count": 913,
   "metadata": {},
   "outputs": [
    {
     "name": "stdout",
     "output_type": "stream",
     "text": [
      "          Date  ActualMeanTemp  actual_min_temp  actual_max_temp  \\\n",
      "0     2014-7-1              81               72               89   \n",
      "1     2014-7-2              82               72               91   \n",
      "2     2014-7-3              78               69               87   \n",
      "3     2014-7-4              70               65               74   \n",
      "4     2014-7-5              72               63               81   \n",
      "..         ...             ...              ...              ...   \n",
      "360  2015-6-26              75               69               81   \n",
      "361  2015-6-27              65               58               71   \n",
      "362  2015-6-28              68               62               73   \n",
      "363  2015-6-29              70               63               76   \n",
      "364  2015-6-30              75               68               82   \n",
      "\n",
      "     average_min_temp  average_max_temp  record_min_temp  RecordMaxTemp  \\\n",
      "0                  68                83               52            100   \n",
      "1                  68                83               56            100   \n",
      "2                  68                83               54            103   \n",
      "3                  68                84               55            102   \n",
      "4                  68                84               53            101   \n",
      "..                ...               ...              ...            ...   \n",
      "360                67                82               56            100   \n",
      "361                67                82               55            101   \n",
      "362                67                83               54             96   \n",
      "363                67                83               52            101   \n",
      "364                67                83               53             99   \n",
      "\n",
      "     record_min_temp_year  RecordMaxTempYear  actual_precipitation  \\\n",
      "0                    1943               1901                  0.00   \n",
      "1                    2001               1966                  0.96   \n",
      "2                    1933               1966                  1.78   \n",
      "3                    1986               1949                  0.14   \n",
      "4                    1979               1999                  0.00   \n",
      "..                    ...                ...                   ...   \n",
      "360                  1979               1952                  0.00   \n",
      "361                  1940               1966                  1.12   \n",
      "362                  1995               1991                  0.29   \n",
      "363                  1919               1934                  0.00   \n",
      "364                  1919               1964                  0.00   \n",
      "\n",
      "     average_precipitation  record_precipitation  \n",
      "0                     0.12                  2.17  \n",
      "1                     0.13                  1.79  \n",
      "2                     0.12                  2.80  \n",
      "3                     0.13                  1.76  \n",
      "4                     0.12                  3.07  \n",
      "..                     ...                   ...  \n",
      "360                   0.13                  4.29  \n",
      "361                   0.12                  2.11  \n",
      "362                   0.13                  1.69  \n",
      "363                   0.12                  2.57  \n",
      "364                   0.13                  3.07  \n",
      "\n",
      "[365 rows x 13 columns]\n"
     ]
    }
   ],
   "source": [
    "NYC_data.rename(columns={'date': 'Date', 'actual_mean_temp': 'ActualMeanTemp', 'record_max_temp':'RecordMaxTemp', 'record_max_temp_year': 'RecordMaxTempYear'}, inplace=True)\n",
    "print (NYC_data)"
   ]
  },
  {
   "cell_type": "markdown",
   "metadata": {},
   "source": [
    "Next, rename those columns on the smaller datasets SEA_set and NYC_set."
   ]
  },
  {
   "cell_type": "code",
   "execution_count": 914,
   "metadata": {},
   "outputs": [
    {
     "name": "stdout",
     "output_type": "stream",
     "text": [
      "          Date  ActualMeanTemp  RecordMaxTemp  RecordMaxTempYear\n",
      "0     2014-7-1              77             94               2014\n",
      "1     2014-7-2              70             93               2015\n",
      "2     2014-7-3              64             92               2015\n",
      "3     2014-7-4              66             92               2015\n",
      "4     2014-7-5              66             91               1958\n",
      "..         ...             ...            ...                ...\n",
      "360  2015-6-26              77             90               2006\n",
      "361  2015-6-27              78             92               2015\n",
      "362  2015-6-28              74             91               1995\n",
      "363  2015-6-29              74             93               1987\n",
      "364  2015-6-30              73             96               1995\n",
      "\n",
      "[365 rows x 4 columns]\n"
     ]
    }
   ],
   "source": [
    "SEA_set.rename(columns={'date': 'Date', 'actual_mean_temp': 'ActualMeanTemp', 'record_max_temp':'RecordMaxTemp', 'record_max_temp_year': 'RecordMaxTempYear'}, inplace=True)\n",
    "print (SEA_set)"
   ]
  },
  {
   "cell_type": "code",
   "execution_count": 915,
   "metadata": {},
   "outputs": [
    {
     "name": "stdout",
     "output_type": "stream",
     "text": [
      "          Date  ActualMeanTemp  RecordMaxTemp  RecordMaxTempYear\n",
      "0     2014-7-1              81            100               1901\n",
      "1     2014-7-2              82            100               1966\n",
      "2     2014-7-3              78            103               1966\n",
      "3     2014-7-4              70            102               1949\n",
      "4     2014-7-5              72            101               1999\n",
      "..         ...             ...            ...                ...\n",
      "360  2015-6-26              75            100               1952\n",
      "361  2015-6-27              65            101               1966\n",
      "362  2015-6-28              68             96               1991\n",
      "363  2015-6-29              70            101               1934\n",
      "364  2015-6-30              75             99               1964\n",
      "\n",
      "[365 rows x 4 columns]\n"
     ]
    }
   ],
   "source": [
    "NYC_set.rename(columns={'date': 'Date', 'actual_mean_temp': 'ActualMeanTemp', 'record_max_temp':'RecordMaxTemp', 'record_max_temp_year': 'RecordMaxTempYear'}, inplace=True)\n",
    "print (NYC_set)"
   ]
  },
  {
   "cell_type": "markdown",
   "metadata": {},
   "source": [
    "Let's extract data for 2014 only. We'll select rows 0 through 184. Note that this is only July 1 through December 31 of 2014."
   ]
  },
  {
   "cell_type": "code",
   "execution_count": 916,
   "metadata": {},
   "outputs": [
    {
     "name": "stdout",
     "output_type": "stream",
     "text": [
      "           Date  ActualMeanTemp  RecordMaxTemp  RecordMaxTempYear\n",
      "0      2014-7-1              77             94               2014\n",
      "1      2014-7-2              70             93               2015\n",
      "2      2014-7-3              64             92               2015\n",
      "3      2014-7-4              66             92               2015\n",
      "4      2014-7-5              66             91               1958\n",
      "..          ...             ...            ...                ...\n",
      "179  2014-12-27              45             58               1994\n",
      "180  2014-12-28              41             56               1980\n",
      "181  2014-12-29              38             54               1949\n",
      "182  2014-12-30              33             56               1958\n",
      "183  2014-12-31              33             56               1963\n",
      "\n",
      "[184 rows x 4 columns]\n"
     ]
    }
   ],
   "source": [
    "SEA_2014 = SEA_set.iloc[0:184]\n",
    "print(SEA_2014)"
   ]
  },
  {
   "cell_type": "code",
   "execution_count": 917,
   "metadata": {},
   "outputs": [
    {
     "name": "stdout",
     "output_type": "stream",
     "text": [
      "           Date  ActualMeanTemp  RecordMaxTemp  RecordMaxTempYear\n",
      "0      2014-7-1              81            100               1901\n",
      "1      2014-7-2              82            100               1966\n",
      "2      2014-7-3              78            103               1966\n",
      "3      2014-7-4              70            102               1949\n",
      "4      2014-7-5              72            101               1999\n",
      "..          ...             ...            ...                ...\n",
      "179  2014-12-27              50             63               1949\n",
      "180  2014-12-28              49             65               1982\n",
      "181  2014-12-29              39             70               1984\n",
      "182  2014-12-30              31             65               1984\n",
      "183  2014-12-31              30             63               1965\n",
      "\n",
      "[184 rows x 4 columns]\n"
     ]
    }
   ],
   "source": [
    "NYC_2014 = NYC_set.iloc[0:184]\n",
    "print(NYC_2014)"
   ]
  },
  {
   "cell_type": "markdown",
   "metadata": {},
   "source": [
    "SEA_2014 and NYC_2014 are only partial years. Let's set aside those variables for now. We may use them for tests later.\n",
    "\n",
    "Next, we'll plot a line chart of the actual temperature over July 1, 2014 through June 30, 2015, for each city."
   ]
  },
  {
   "cell_type": "code",
   "execution_count": 918,
   "metadata": {},
   "outputs": [
    {
     "data": {
      "image/png": "[encoded data removed]",
      "text/plain": [
       "<Figure size 432x288 with 1 Axes>"
      ]
     },
     "metadata": {
      "needs_background": "light"
     },
     "output_type": "display_data"
    }
   ],
   "source": [
    "SEA_set['ActualMeanTemp'].plot(x='Date', y='ActualMeanTemp');"
   ]
  },
  {
   "cell_type": "code",
   "execution_count": 919,
   "metadata": {},
   "outputs": [
    {
     "data": {
      "image/png": "[encoded data removed]",
      "text/plain": [
       "<Figure size 432x288 with 1 Axes>"
      ]
     },
     "metadata": {
      "needs_background": "light"
     },
     "output_type": "display_data"
    }
   ],
   "source": [
    "NYC_set['ActualMeanTemp'].plot();"
   ]
  },
  {
   "cell_type": "markdown",
   "metadata": {},
   "source": [
    "Next, let's check the instances of unique years of RecordMaxTemps for both cities."
   ]
  },
  {
   "cell_type": "code",
   "execution_count": 979,
   "metadata": {},
   "outputs": [
    {
     "data": {
      "text/plain": [
       "array([2014, 2015, 1958, 1960, 2010, 1945, 2007, 1961, 1996, 1979, 1995,\n",
       "       1988, 1994, 2006, 1991, 2004, 1971, 2009, 1959, 1949, 1977, 1993,\n",
       "       2012, 1972, 1981, 2002, 1967, 1966, 1956, 1982, 1986, 1974, 1987,\n",
       "       1963, 1973, 2013, 1999, 1952, 1990, 1957, 2003, 1992, 1980, 1951,\n",
       "       1989, 1965, 1998, 1968, 1962, 1970, 1976, 2008, 1997, 1953, 2001,\n",
       "       1954, 2005, 1950, 1984, 2011, 1983, 1969, 1985, 1964, 1978, 1948,\n",
       "       1955])"
      ]
     },
     "execution_count": 979,
     "metadata": {},
     "output_type": "execute_result"
    }
   ],
   "source": [
    "SEA_set['RecordMaxTempYear'].unique()"
   ]
  },
  {
   "cell_type": "code",
   "execution_count": 980,
   "metadata": {},
   "outputs": [
    {
     "data": {
      "image/png": "[encoded data removed]",
      "text/plain": [
       "<Figure size 432x288 with 1 Axes>"
      ]
     },
     "metadata": {
      "needs_background": "light"
     },
     "output_type": "display_data"
    }
   ],
   "source": [
    "SEA_set['RecordMaxTempYear'].plot();"
   ]
  },
  {
   "cell_type": "code",
   "execution_count": 981,
   "metadata": {},
   "outputs": [
    {
     "data": {
      "image/png": "[encoded data removed]",
      "text/plain": [
       "<Figure size 432x288 with 1 Axes>"
      ]
     },
     "metadata": {
      "needs_background": "light"
     },
     "output_type": "display_data"
    }
   ],
   "source": [
    "NYC_set['RecordMaxTempYear'].plot();"
   ]
  },
  {
   "cell_type": "code",
   "execution_count": 982,
   "metadata": {},
   "outputs": [
    {
     "data": {
      "text/plain": [
       "array([1901, 1966, 1949, 1999, 2010, 1993, 1936, 1988, 1954, 1995, 1980,\n",
       "       1953, 1977, 2011, 1940, 1963, 1933, 1955, 2005, 1944, 1918, 2001,\n",
       "       2002, 1916, 1972, 1948, 1973, 1929, 1985, 1881, 1919, 1915, 1983,\n",
       "       1961, 1952, 1931, 1927, 1991, 1891, 1895, 1914, 1959, 1970, 1945,\n",
       "       1986, 1941, 2007, 1939, 1920, 1956, 1897, 1938, 1928, 1969, 1979,\n",
       "       1947, 1964, 1971, 1946, 1950, 2003, 1975, 1879, 1921, 1900, 1896,\n",
       "       1990, 2006, 1998, 1923, 2008, 2000, 1984, 2013, 1996, 1982, 1965,\n",
       "       1876, 1907, 1937, 1890, 1932, 1951, 1906, 1967, 1989, 1960, 1976,\n",
       "       1981, 1997, 1930, 1974, 1880, 1935, 1987, 2012, 1922, 1917, 1892,\n",
       "       2009, 1942, 1962, 1925, 1994, 1957, 1888, 1934])"
      ]
     },
     "execution_count": 982,
     "metadata": {},
     "output_type": "execute_result"
    }
   ],
   "source": [
    "NYC_set['RecordMaxTempYear'].unique()"
   ]
  },
  {
   "cell_type": "markdown",
   "metadata": {},
   "source": [
    "Let's use datetime!"
   ]
  },
  {
   "cell_type": "code",
   "execution_count": 983,
   "metadata": {},
   "outputs": [
    {
     "name": "stdout",
     "output_type": "stream",
     "text": [
      "0     2014-07-01\n",
      "1     2014-07-02\n",
      "2     2014-07-03\n",
      "3     2014-07-04\n",
      "4     2014-07-05\n",
      "         ...    \n",
      "360   2015-06-26\n",
      "361   2015-06-27\n",
      "362   2015-06-28\n",
      "363   2015-06-29\n",
      "364   2015-06-30\n",
      "Name: Date, Length: 365, dtype: datetime64[ns]\n"
     ]
    }
   ],
   "source": [
    "SEA_datetime = pd.to_datetime(SEA_set['Date'])\n",
    "print(SEA_datetime)"
   ]
  },
  {
   "cell_type": "code",
   "execution_count": 984,
   "metadata": {},
   "outputs": [],
   "source": [
    "# SEA_set['Year'] = pd.to_datetime(SEA_set['Date']).dt.year        DELETE\n",
    "# SEA_set['Month'] = pd.to_datetime(SEA_set['Date']).dt.month\n",
    "\n",
    "# start = pd.Timestamp(year=2014, month=7, day=1)\n",
    "# end   = pd.Timestamp(year=2015, month=6, day=30)\n",
    "# interval = pd.date_range(start, end, freq='BM')\n",
    "# interval\n",
    "# date_series = pd.Series(1, index=interval)\n",
    "# print(date_series)\n",
    "\n",
    "# SEA_set[['Month', 'Year']].head(3)"
   ]
  },
  {
   "cell_type": "code",
   "execution_count": 985,
   "metadata": {},
   "outputs": [
    {
     "name": "stdout",
     "output_type": "stream",
     "text": [
      "Date\n",
      "2014-07-01    1\n",
      "2014-07-02    1\n",
      "2014-07-03    1\n",
      "2014-07-04    1\n",
      "2014-07-05    1\n",
      "             ..\n",
      "2015-06-26    1\n",
      "2015-06-27    1\n",
      "2015-06-28    1\n",
      "2015-06-29    1\n",
      "2015-06-30    1\n",
      "Length: 365, dtype: int64\n"
     ]
    }
   ],
   "source": [
    "date_series = pd.Series(1, index=SEA_datetime)\n",
    "print(date_series)"
   ]
  },
  {
   "cell_type": "code",
   "execution_count": 986,
   "metadata": {},
   "outputs": [
    {
     "name": "stdout",
     "output_type": "stream",
     "text": [
      "Date\n",
      "2014-07-01   NaN\n",
      "2014-07-02   NaN\n",
      "2014-07-03   NaN\n",
      "2014-07-04   NaN\n",
      "2014-07-05   NaN\n",
      "              ..\n",
      "2015-06-26   NaN\n",
      "2015-06-27   NaN\n",
      "2015-06-28   NaN\n",
      "2015-06-29   NaN\n",
      "2015-06-30   NaN\n",
      "Name: ActualMeanTemp, Length: 365, dtype: float64\n"
     ]
    }
   ],
   "source": [
    "date_series = pd.Series(SEA_set['ActualMeanTemp'], index=SEA_datetime)\n",
    "print(date_series)"
   ]
  },
  {
   "cell_type": "code",
   "execution_count": 987,
   "metadata": {},
   "outputs": [
    {
     "name": "stdout",
     "output_type": "stream",
     "text": [
      "0      77\n",
      "1      70\n",
      "2      64\n",
      "3      66\n",
      "4      66\n",
      "       ..\n",
      "360    77\n",
      "361    78\n",
      "362    74\n",
      "363    74\n",
      "364    73\n",
      "Name: ActualMeanTemp, Length: 365, dtype: int64\n"
     ]
    }
   ],
   "source": [
    "SEA_temps = SEA_set['ActualMeanTemp']\n",
    "print(SEA_temps)"
   ]
  },
  {
   "cell_type": "code",
   "execution_count": 988,
   "metadata": {},
   "outputs": [
    {
     "data": {
      "image/png": "[encoded data removed]",
      "text/plain": [
       "<Figure size 432x288 with 1 Axes>"
      ]
     },
     "metadata": {
      "needs_background": "light"
     },
     "output_type": "display_data"
    }
   ],
   "source": [
    "SEA_set['ActualMeanTemp'].plot(x=date_series, y='Temp');"
   ]
  },
  {
   "cell_type": "code",
   "execution_count": 989,
   "metadata": {},
   "outputs": [
    {
     "data": {
      "image/png": "[encoded data removed]",
      "text/plain": [
       "<Figure size 432x288 with 1 Axes>"
      ]
     },
     "metadata": {
      "needs_background": "light"
     },
     "output_type": "display_data"
    }
   ],
   "source": [
    "SEA_set['ActualMeanTemp'].plot(x=SEA_datetime, y='ActualMeanTemp');"
   ]
  },
  {
   "cell_type": "code",
   "execution_count": 990,
   "metadata": {},
   "outputs": [
    {
     "data": {
      "image/png": "[encoded data removed]",
      "text/plain": [
       "<Figure size 432x288 with 1 Axes>"
      ]
     },
     "metadata": {
      "needs_background": "light"
     },
     "output_type": "display_data"
    }
   ],
   "source": [
    "SEA_set['ActualMeanTemp'].plot(x='SEA_datetime', y='ActualMeanTemp');"
   ]
  },
  {
   "cell_type": "markdown",
   "metadata": {},
   "source": [
    "Let's use timestamp!"
   ]
  },
  {
   "cell_type": "code",
   "execution_count": 991,
   "metadata": {},
   "outputs": [],
   "source": [
    "# SEA_timestamp = pd.timestamp(SEA_set['Date']\n",
    "# print(SEA_timestamp)"
   ]
  },
  {
   "cell_type": "code",
   "execution_count": null,
   "metadata": {},
   "outputs": [],
   "source": []
  }
 ],
 "metadata": {
  "kernelspec": {
   "display_name": "Python 3",
   "language": "python",
   "name": "python3"
  },
  "language_info": {
   "codemirror_mode": {
    "name": "ipython",
    "version": 3
   },
   "file_extension": ".py",
   "mimetype": "text/x-python",
   "name": "python",
   "nbconvert_exporter": "python",
   "pygments_lexer": "ipython3",
   "version": "3.7.4"
  }
 },
 "nbformat": 4,
 "nbformat_minor": 2
}
